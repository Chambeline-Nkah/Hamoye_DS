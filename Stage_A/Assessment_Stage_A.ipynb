{
 "cells": [
  {
   "cell_type": "code",
   "execution_count": 1,
   "id": "22fea6fd-61da-4476-848d-d1ef716bae6c",
   "metadata": {},
   "outputs": [],
   "source": [
    "import pandas as pd\n",
    "import seaborn as sns\n",
    "import matplotlib.pyplot as plt"
   ]
  },
  {
   "cell_type": "code",
   "execution_count": 2,
   "id": "8945966c-86db-47d3-922e-693a60f813ef",
   "metadata": {},
   "outputs": [
    {
     "data": {
      "text/html": [
       "<div>\n",
       "<style scoped>\n",
       "    .dataframe tbody tr th:only-of-type {\n",
       "        vertical-align: middle;\n",
       "    }\n",
       "\n",
       "    .dataframe tbody tr th {\n",
       "        vertical-align: top;\n",
       "    }\n",
       "\n",
       "    .dataframe thead th {\n",
       "        text-align: right;\n",
       "    }\n",
       "</style>\n",
       "<table border=\"1\" class=\"dataframe\">\n",
       "  <thead>\n",
       "    <tr style=\"text-align: right;\">\n",
       "      <th></th>\n",
       "      <th>Area Code</th>\n",
       "      <th>Area</th>\n",
       "      <th>Item Code</th>\n",
       "      <th>Item</th>\n",
       "      <th>Element Code</th>\n",
       "      <th>Element</th>\n",
       "      <th>Unit</th>\n",
       "      <th>Y2014</th>\n",
       "      <th>Y2015</th>\n",
       "      <th>Y2016</th>\n",
       "      <th>Y2017</th>\n",
       "      <th>Y2018</th>\n",
       "    </tr>\n",
       "  </thead>\n",
       "  <tbody>\n",
       "    <tr>\n",
       "      <th>0</th>\n",
       "      <td>4</td>\n",
       "      <td>Algeria</td>\n",
       "      <td>2501</td>\n",
       "      <td>Population</td>\n",
       "      <td>511</td>\n",
       "      <td>Total Population - Both sexes</td>\n",
       "      <td>1000 persons</td>\n",
       "      <td>38924.00</td>\n",
       "      <td>39728.00</td>\n",
       "      <td>40551.00</td>\n",
       "      <td>41389.00</td>\n",
       "      <td>42228.00</td>\n",
       "    </tr>\n",
       "    <tr>\n",
       "      <th>1</th>\n",
       "      <td>4</td>\n",
       "      <td>Algeria</td>\n",
       "      <td>2501</td>\n",
       "      <td>Population</td>\n",
       "      <td>5301</td>\n",
       "      <td>Domestic supply quantity</td>\n",
       "      <td>1000 tonnes</td>\n",
       "      <td>0.00</td>\n",
       "      <td>0.00</td>\n",
       "      <td>0.00</td>\n",
       "      <td>0.00</td>\n",
       "      <td>0.00</td>\n",
       "    </tr>\n",
       "    <tr>\n",
       "      <th>2</th>\n",
       "      <td>4</td>\n",
       "      <td>Algeria</td>\n",
       "      <td>2901</td>\n",
       "      <td>Grand Total</td>\n",
       "      <td>664</td>\n",
       "      <td>Food supply (kcal/capita/day)</td>\n",
       "      <td>kcal/capita/day</td>\n",
       "      <td>3377.00</td>\n",
       "      <td>3379.00</td>\n",
       "      <td>3372.00</td>\n",
       "      <td>3341.00</td>\n",
       "      <td>3322.00</td>\n",
       "    </tr>\n",
       "    <tr>\n",
       "      <th>3</th>\n",
       "      <td>4</td>\n",
       "      <td>Algeria</td>\n",
       "      <td>2901</td>\n",
       "      <td>Grand Total</td>\n",
       "      <td>674</td>\n",
       "      <td>Protein supply quantity (g/capita/day)</td>\n",
       "      <td>g/capita/day</td>\n",
       "      <td>94.90</td>\n",
       "      <td>94.35</td>\n",
       "      <td>94.72</td>\n",
       "      <td>92.82</td>\n",
       "      <td>91.83</td>\n",
       "    </tr>\n",
       "    <tr>\n",
       "      <th>4</th>\n",
       "      <td>4</td>\n",
       "      <td>Algeria</td>\n",
       "      <td>2901</td>\n",
       "      <td>Grand Total</td>\n",
       "      <td>684</td>\n",
       "      <td>Fat supply quantity (g/capita/day)</td>\n",
       "      <td>g/capita/day</td>\n",
       "      <td>80.06</td>\n",
       "      <td>79.36</td>\n",
       "      <td>77.40</td>\n",
       "      <td>80.19</td>\n",
       "      <td>77.28</td>\n",
       "    </tr>\n",
       "  </tbody>\n",
       "</table>\n",
       "</div>"
      ],
      "text/plain": [
       "   Area Code     Area  Item Code         Item  Element Code  \\\n",
       "0          4  Algeria       2501   Population           511   \n",
       "1          4  Algeria       2501   Population          5301   \n",
       "2          4  Algeria       2901  Grand Total           664   \n",
       "3          4  Algeria       2901  Grand Total           674   \n",
       "4          4  Algeria       2901  Grand Total           684   \n",
       "\n",
       "                                  Element             Unit     Y2014  \\\n",
       "0           Total Population - Both sexes     1000 persons  38924.00   \n",
       "1                Domestic supply quantity      1000 tonnes      0.00   \n",
       "2           Food supply (kcal/capita/day)  kcal/capita/day   3377.00   \n",
       "3  Protein supply quantity (g/capita/day)     g/capita/day     94.90   \n",
       "4      Fat supply quantity (g/capita/day)     g/capita/day     80.06   \n",
       "\n",
       "      Y2015     Y2016     Y2017     Y2018  \n",
       "0  39728.00  40551.00  41389.00  42228.00  \n",
       "1      0.00      0.00      0.00      0.00  \n",
       "2   3379.00   3372.00   3341.00   3322.00  \n",
       "3     94.35     94.72     92.82     91.83  \n",
       "4     79.36     77.40     80.19     77.28  "
      ]
     },
     "execution_count": 2,
     "metadata": {},
     "output_type": "execute_result"
    }
   ],
   "source": [
    "#Loading the dataset\n",
    "df = pd.read_csv(\"FoodBalanceSheets_E_Africa_NOFLAG.csv\", encoding = \"latin-1\")\n",
    "df.head()"
   ]
  },
  {
   "cell_type": "code",
   "execution_count": 5,
   "id": "3a8346f3-aeab-4d5c-b361-663c35fbaf35",
   "metadata": {},
   "outputs": [
    {
     "data": {
      "text/plain": [
       "173.04999999999998"
      ]
     },
     "execution_count": 5,
     "metadata": {},
     "output_type": "execute_result"
    }
   ],
   "source": [
    "#What is the total Protein supply quantity in Madagascar in 2015?\n",
    "\n",
    "mada_protein_2015 = df[(df['Area'] == 'Madagascar') & (df['Element'] == 'Protein supply quantity (g/capita/day)')]\n",
    "\n",
    "overall_protein_2015 = mada_protein_2015['Y2015'].sum()\n",
    "overall_protein_2015"
   ]
  },
  {
   "cell_type": "code",
   "execution_count": 7,
   "id": "0ab3e59a-0c85-45ee-9eaa-f3f580073b14",
   "metadata": {},
   "outputs": [
    {
     "data": {
      "text/plain": [
       "'Y2014'"
      ]
     },
     "execution_count": 7,
     "metadata": {},
     "output_type": "execute_result"
    }
   ],
   "source": [
    "#Perform a groupby operation on ‘Element’.  What year has the highest sum of Stock Variation?\n",
    "\n",
    "element_stock_years = df[df['Element'] == 'Stock Variation'].groupby('Element')[['Y2014', 'Y2015', 'Y2016', 'Y2017', 'Y2018']].sum()\n",
    "\n",
    "stock_varia = element_stock_years.sum(axis=0).idxmax()\n",
    "\n",
    "stock_varia"
   ]
  },
  {
   "cell_type": "code",
   "execution_count": 8,
   "id": "d7e96e43-4661-46f7-903e-63142a022d20",
   "metadata": {},
   "outputs": [
    {
     "data": {
      "text/plain": [
       "Area Code          0\n",
       "Area               0\n",
       "Item Code          0\n",
       "Item               0\n",
       "Element Code       0\n",
       "Element            0\n",
       "Unit               0\n",
       "Y2014           1589\n",
       "Y2015           1548\n",
       "Y2016           1535\n",
       "Y2017           1506\n",
       "Y2018           1436\n",
       "dtype: int64"
      ]
     },
     "execution_count": 8,
     "metadata": {},
     "output_type": "execute_result"
    }
   ],
   "source": [
    "#What is the total number and percentage of missing data in 2014 to 3 decimal places?\n",
    "\n",
    "df.isnull().sum()"
   ]
  },
  {
   "cell_type": "code",
   "execution_count": 9,
   "id": "0b43f8e5-e74f-45d9-ad2e-fcb061399953",
   "metadata": {},
   "outputs": [
    {
     "data": {
      "text/plain": [
       "(60943, 12)"
      ]
     },
     "execution_count": 9,
     "metadata": {},
     "output_type": "execute_result"
    }
   ],
   "source": [
    "df.shape"
   ]
  },
  {
   "cell_type": "code",
   "execution_count": 16,
   "id": "4a7b74f3-8abc-480a-9d25-09ed26f285dc",
   "metadata": {},
   "outputs": [
    {
     "name": "stdout",
     "output_type": "stream",
     "text": [
      "2.607\n"
     ]
    }
   ],
   "source": [
    "#Missing_values for Y2014 = 1589\n",
    "#Getting the percentage of missing data\n",
    "\n",
    "percentage_missing = (1589 / 60943) * 100\n",
    "\n",
    "print(round(percentage_missing, 3))"
   ]
  },
  {
   "cell_type": "code",
   "execution_count": 17,
   "id": "65b6be07-1cdd-4d65-bc8f-c321281f345f",
   "metadata": {},
   "outputs": [
    {
     "name": "stdout",
     "output_type": "stream",
     "text": [
      "140.92\n",
      "1671.86\n"
     ]
    }
   ],
   "source": [
    "#What is the mean and standard deviation across the whole dataset for the year 2017 to 2 decimal places?\n",
    "\n",
    "data_2017 = df['Y2017']\n",
    "\n",
    "mean_for_2017 = data_2017.mean()\n",
    "std_for_2017 = data_2017.std()\n",
    "\n",
    "print(round(mean_for_2017, 2))\n",
    "print(round(std_for_2017, 2))"
   ]
  },
  {
   "cell_type": "code",
   "execution_count": 19,
   "id": "2dd84136-86d4-48d4-b289-ca528c2b81c3",
   "metadata": {},
   "outputs": [
    {
     "data": {
      "text/plain": [
       "292836.0"
      ]
     },
     "execution_count": 19,
     "metadata": {},
     "output_type": "execute_result"
    }
   ],
   "source": [
    "#Perform a groupby operation on ‘Element’.  What is the total number of the sum of Processing in 2017?\n",
    "\n",
    "element_processing = df.groupby('Element').get_group('Processing')\n",
    "\n",
    "processing_sum_for_2017 = element_processing['Y2017'].sum()\n",
    "\n",
    "processing_sum_for_2017"
   ]
  },
  {
   "cell_type": "code",
   "execution_count": 20,
   "id": "3d1253e8-5f6a-42a2-9e3d-66a25ad1de8e",
   "metadata": {},
   "outputs": [
    {
     "data": {
      "text/plain": [
       "'Nigeria'"
      ]
     },
     "execution_count": 20,
     "metadata": {},
     "output_type": "execute_result"
    }
   ],
   "source": [
    "#Select columns ‘Y2017’ and ‘Area’, Perform a groupby operation on ‘Area’.  Which of these Areas had the highest sum in 2017?\n",
    "\n",
    "data_year_area = df[['Y2017', 'Area']]\n",
    "\n",
    "sum = data_year_area.groupby('Area')['Y2017'].sum()\n",
    "\n",
    "max_area_2017 = sum.idxmax()\n",
    "\n",
    "max_area_2017"
   ]
  },
  {
   "cell_type": "code",
   "execution_count": 21,
   "id": "b8a1aca9-cf80-4ef1-9049-76118501650a",
   "metadata": {},
   "outputs": [
    {
     "data": {
      "text/plain": [
       "49"
      ]
     },
     "execution_count": 21,
     "metadata": {},
     "output_type": "execute_result"
    }
   ],
   "source": [
    "#What is the total number of unique countries in the dataset?\n",
    "\n",
    "unique_countries = df['Area'].nunique()\n",
    "\n",
    "unique_countries"
   ]
  },
  {
   "cell_type": "code",
   "execution_count": 22,
   "id": "8d9c548d-b667-4b97-b3fa-c8aadebc58d5",
   "metadata": {},
   "outputs": [
    {
     "data": {
      "image/png": "[encoded data removed]",
      "text/plain": [
       "<Figure size 800x600 with 2 Axes>"
      ]
     },
     "metadata": {},
     "output_type": "display_data"
    }
   ],
   "source": [
    "#Which year had the least correlation with ‘Element Code’?\n",
    "\n",
    "data = ['Element Code', 'Y2014', 'Y2015', 'Y2016', 'Y2017', 'Y2018']\n",
    "df1 = df[data]\n",
    "\n",
    "corre = df1.corr()\n",
    "\n",
    "plt.figure(figsize=(8, 6))\n",
    "sns.heatmap(corre, annot=True, linewidths=0.5)\n",
    "plt.show();"
   ]
  },
  {
   "cell_type": "code",
   "execution_count": 26,
   "id": "c4a9dd4e-2391-499c-b528-df7112f37dae",
   "metadata": {},
   "outputs": [
    {
     "data": {
      "text/plain": [
       "'Y2016'"
      ]
     },
     "execution_count": 26,
     "metadata": {},
     "output_type": "execute_result"
    }
   ],
   "source": [
    "corre_element_code = df1.corr().loc['Element Code'][1:]\n",
    "\n",
    "year_lowest_correlation = corre_element_code.idxmin()\n",
    "year_lowest_correlation"
   ]
  },
  {
   "cell_type": "code",
   "execution_count": 30,
   "id": "846d6031-bf6d-407b-a312-d86ff1507a5b",
   "metadata": {},
   "outputs": [
    {
     "name": "stdout",
     "output_type": "stream",
     "text": [
      "wine_2015 is  1213.0\n",
      "wine_2018 is  1091.0\n"
     ]
    }
   ],
   "source": [
    "#What is the total sum of Wine produced in 2015 and 2018 respectively?\n",
    "\n",
    "#Perform a groupby sum aggregation on ‘Item’\n",
    "\n",
    "data1 = df[(df['Item'] == 'Wine') & (df['Element'] == 'Production')][['Item', 'Y2015', 'Y2018']]\n",
    "\n",
    "wine_2015 = data1.groupby('Item')['Y2015'].sum()['Wine']\n",
    "wine_2018 = data1.groupby('Item')['Y2018'].sum()['Wine']\n",
    "print(\"wine_2015 is \", wine_2015)\n",
    "print(\"wine_2018 is \", wine_2018)"
   ]
  },
  {
   "cell_type": "code",
   "execution_count": 37,
   "id": "bb0391ec-788f-42b4-97dd-7c1418b378b9",
   "metadata": {},
   "outputs": [
    {
     "data": {
      "text/plain": [
       "Area\n",
       "Algeria                         325644.27\n",
       "Angola                          229159.57\n",
       "Benin                           124771.22\n",
       "Botswana                         22101.30\n",
       "Burkina Faso                    101855.07\n",
       "Cabo Verde                       14650.74\n",
       "Cameroon                        232030.43\n",
       "Central African Republic         29937.00\n",
       "Chad                             71594.68\n",
       "Comoros                             59.84\n",
       "Congo                            41181.68\n",
       "Côte d'Ivoire                   224599.01\n",
       "Djibouti                         22729.91\n",
       "Egypt                           866379.92\n",
       "Eswatini                         54343.33\n",
       "Ethiopia                        448683.76\n",
       "Ethiopia PDR                         0.00\n",
       "Gabon                            27979.64\n",
       "Gambia                           23154.18\n",
       "Ghana                           337599.06\n",
       "Guinea                           98138.87\n",
       "Guinea-Bissau                    19102.77\n",
       "Kenya                           264660.66\n",
       "Lesotho                          21267.96\n",
       "Liberia                          29342.20\n",
       "Madagascar                      131197.73\n",
       "Malawi                          181098.71\n",
       "Mali                            149928.33\n",
       "Mauritania                      156665.46\n",
       "Mauritius                        51114.83\n",
       "Morocco                         388495.36\n",
       "Mozambique                      161407.98\n",
       "Namibia                          29874.89\n",
       "Niger                           126707.58\n",
       "Nigeria                        1483268.23\n",
       "Rwanda                           73663.69\n",
       "Sao Tome and Principe            12662.63\n",
       "Senegal                          95681.15\n",
       "Seychelles                         442.34\n",
       "Sierra Leone                     55311.33\n",
       "South Africa                    517590.54\n",
       "Sudan                           239931.92\n",
       "Sudan (former)                       0.00\n",
       "Togo                             49841.88\n",
       "Tunisia                         124167.20\n",
       "Uganda                          213950.38\n",
       "United Republic of Tanzania     322616.85\n",
       "Zambia                          103223.77\n",
       "Zimbabwe                         75919.34\n",
       "Name: Y2017, dtype: float64"
      ]
     },
     "execution_count": 37,
     "metadata": {},
     "output_type": "execute_result"
    }
   ],
   "source": [
    "#Select columns ‘Y2017’ and ‘Area’, Perform a groupby operation on ‘Area’.  Which of these Areas had the 7th lowest sum in 2017?\n",
    "\n",
    "data2 = df[['Y2017', 'Area']]\n",
    "\n",
    "sum_2017 = data2.groupby('Area')['Y2017'].sum()\n",
    "\n",
    "sum_2017"
   ]
  },
  {
   "cell_type": "code",
   "execution_count": null,
   "id": "23a8335e-fe10-4a97-8ef0-889bda113ed8",
   "metadata": {},
   "outputs": [],
   "source": []
  }
 ],
 "metadata": {
  "kernelspec": {
   "display_name": "Python 3 (ipykernel)",
   "language": "python",
   "name": "python3"
  },
  "language_info": {
   "codemirror_mode": {
    "name": "ipython",
    "version": 3
   },
   "file_extension": ".py",
   "mimetype": "text/x-python",
   "name": "python",
   "nbconvert_exporter": "python",
   "pygments_lexer": "ipython3",
   "version": "3.11.7"
  }
 },
 "nbformat": 4,
 "nbformat_minor": 5
}
